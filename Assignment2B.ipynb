{
 "cells": [
  {
   "cell_type": "code",
   "execution_count": 4,
   "id": "99defa75",
   "metadata": {},
   "outputs": [],
   "source": [
    "from collections import deque\n",
    "\n",
    "class Graph:\n",
    "    # example of adjacency list (or rather map)\n",
    "    # adjacency_list = {\n",
    "    # 'A': [('B', 1), ('C', 3), ('D', 7)],\n",
    "    # 'B': [('D', 5)],\n",
    "    # 'C': [('D', 12)]\n",
    "    # }\n",
    "\n",
    "    def __init__(self, adjacency_list):\n",
    "        self.adjacency_list = adjacency_list\n",
    "\n",
    "    def get_neighbors(self, v):\n",
    "        return self.adjacency_list[v]\n",
    "\n",
    "    # heuristic function with equal values for all nodes\n",
    "    def h(self, n):\n",
    "        H = {\n",
    "            'A': 1,\n",
    "            'B': 1,\n",
    "            'C': 1,\n",
    "            'D': 1\n",
    "        }\n",
    "\n",
    "        return H[n]\n",
    "\n",
    "    def a_star_algorithm(self, start_node, stop_node):\n",
    "        # open_list is a list of nodes which have been visited, but who's neighbors\n",
    "        # haven't all been inspected, starts off with the start node\n",
    "        # closed_list is a list of nodes which have been visited\n",
    "        # and who's neighbors have been inspected\n",
    "        open_list = set([start_node])\n",
    "        closed_list = set([])\n",
    "\n",
    "        # g contains current distances from start_node to all other nodes\n",
    "        # the default value (if it's not found in the map) is +infinity\n",
    "        g = {}\n",
    "\n",
    "        g[start_node] = 0\n",
    "\n",
    "        # parents contains an adjacency map of all nodes\n",
    "        parents = {}\n",
    "        parents[start_node] = start_node\n",
    "\n",
    "        while len(open_list) > 0:\n",
    "            n = None\n",
    "\n",
    "            # find a node with the lowest value of f() - evaluation function\n",
    "            for v in open_list:\n",
    "                if n == None or g[v] + self.h(v) < g[n] + self.h(n):\n",
    "                    n = v;\n",
    "\n",
    "            if n == None:\n",
    "                print('Path does not exist!')\n",
    "                return None\n",
    "\n",
    "            # if the current node is the stop_node\n",
    "            # then we begin reconstructin the path from it to the start_node\n",
    "            if n == stop_node:\n",
    "                reconst_path = []\n",
    "\n",
    "                while parents[n] != n:\n",
    "                    reconst_path.append(n)\n",
    "                    n = parents[n]\n",
    "\n",
    "                reconst_path.append(start_node)\n",
    "\n",
    "                reconst_path.reverse()\n",
    "\n",
    "                print('Path found: {}'.format(reconst_path))\n",
    "                return reconst_path\n",
    "\n",
    "            # for all neighbors of the current node do\n",
    "            for (m, weight) in self.get_neighbors(n):\n",
    "                # if the current node isn't in both open_list and closed_list\n",
    "                # add it to open_list and note n as it's parent\n",
    "                if m not in open_list and m not in closed_list:\n",
    "                    open_list.add(m)\n",
    "                    parents[m] = n\n",
    "                    g[m] = g[n] + weight\n",
    "\n",
    "                # otherwise, check if it's quicker to first visit n, then m\n",
    "                # and if it is, update parent data and g data\n",
    "                # and if the node was in the closed_list, move it to open_list\n",
    "                else:\n",
    "                    if g[m] > g[n] + weight:\n",
    "                        g[m] = g[n] + weight\n",
    "                        parents[m] = n\n",
    "\n",
    "                        if m in closed_list:\n",
    "                            closed_list.remove(m)\n",
    "                            open_list.add(m)\n",
    "\n",
    "            # remove n from the open_list, and add it to closed_list\n",
    "            # because all of his neighbors were inspected\n",
    "            open_list.remove(n)\n",
    "            closed_list.add(n)\n",
    "\n",
    "        print('Path does not exist!')\n",
    "        return None\n"
   ]
  },
  {
   "cell_type": "code",
   "execution_count": 5,
   "id": "65f4f7ea",
   "metadata": {},
   "outputs": [
    {
     "name": "stdout",
     "output_type": "stream",
     "text": [
      "Path found: ['A', 'B', 'D']\n"
     ]
    },
    {
     "data": {
      "text/plain": [
       "['A', 'B', 'D']"
      ]
     },
     "execution_count": 5,
     "metadata": {},
     "output_type": "execute_result"
    }
   ],
   "source": [
    "adjacency_list = {\n",
    "    'A' : [('B', 1), ('C', 3), ('D', 7)],\n",
    "    'B' : [('D', 5)],\n",
    "    'C' : [('D', 12)]\n",
    "}\n",
    "\n",
    "graph1 = Graph(adjacency_list)\n",
    "graph1.a_star_algorithm('A','D')"
   ]
  },
  {
   "cell_type": "code",
   "execution_count": 11,
   "id": "3ae063a6",
   "metadata": {},
   "outputs": [],
   "source": [
    "map_list = {\n",
    "    'park_42nd' : [('vanderbilt_42nd', 1), ('park_41st', 2)],\n",
    "    'park_41st' : [('park_42nd', 1), ('park_40th', 1)],\n",
    "    'park_40th' : [('park_41st', 1)],\n",
    "    'vanderbilt_46th' : [('vanderbilt_45th', 1)],\n",
    "    'vanderbilt_45th' : [('madison_45th', 1),('vanderbilt_44th', 1)],\n",
    "    'vanderbilt_44th' : [('vanderbilt_43rd', 1)],\n",
    "    'vanderbilt_43rd' : [('madison_43rd', 1), ('vanderbilt_42nd', 1)],\n",
    "    'vanderbilt_42nd' : [('madison_42nd', 1),('park_42nd', 1)],\n",
    "    'madison_46th' : [('vanderbilt_46th', 1)],\n",
    "    'madison_45th' : [('madison_46th', 1), ('fifth_45th', 2)],\n",
    "    'madison_44th' : [('madison_45th', 1), ('vanderbilt_44th', 1)],\n",
    "    'madison_43rd' : [('madison_44th', 1), ('fifth_43rd', 2)],\n",
    "    'madison_42nd' : [('madison_43rd', 1), ('vanderbilt_42nd', 1), ('fifth_42nd', 2)],\n",
    "    'madison_41st' : [('madison_42nd', 1),  ('park_41st', 2)],\n",
    "    'madison_40th' : [('madison_41st', 1), ('park_40th', 1)],\n",
    "    'madison_39th' : [('madison_40th', 1), ('fifth_39th', 2)],\n",
    "    'fifth_45th' : [('fifth_44th', 1)],\n",
    "    'fifth_44th' : [('madison_44th', 2), ('fifth_43rd', 1)],\n",
    "    'fifth_43rd' : [('america_43rd', 4), ('fifth_44th', 1)],\n",
    "    'fifth_42nd' : [('madison_42nd', 2),('america_42nd', 4), ('fifth_41st', 1)],\n",
    "    'fifth_41st' : [('madison_41st', 2), ('fifth_40th', 1)],\n",
    "    'fifth_40th' : [('madison_40th', 2), ('america_40th', 4), ('fifth_41st', 1), ('fifth_39th', 1)],\n",
    "    'fifth_39th' : [('america_39th', 4),('fifth_38th', 1)],\n",
    "    'fifth_38th' : [],\n",
    "    'america_43rd' : [],\n",
    "    'america_42nd' : [('fifth_42nd', 4), ('america_43rd', 1)],\n",
    "    'america_41st' : [('america_42nd', 1)],\n",
    "    'america_40th' : [('fifth_40th', 4), ('america_41st', 1)],\n",
    "    'america_39th' : [('american_40th', 1)],\n",
    "    'america_38th' : [('fifth_38th', 4), ('america_39th', 1)],\n",
    "    'america_37th' : [('america_38th', 1)]\n",
    "    \n",
    "}"
   ]
  },
  {
   "cell_type": "code",
   "execution_count": 15,
   "id": "3ad3695e",
   "metadata": {},
   "outputs": [
    {
     "ename": "KeyError",
     "evalue": "'vanderbilt_44th'",
     "output_type": "error",
     "traceback": [
      "\u001b[1;31m---------------------------------------------------------------------------\u001b[0m",
      "\u001b[1;31mKeyError\u001b[0m                                  Traceback (most recent call last)",
      "\u001b[1;32m<ipython-input-15-73b7afe2d4a4>\u001b[0m in \u001b[0;36m<module>\u001b[1;34m\u001b[0m\n\u001b[0;32m      1\u001b[0m \u001b[0mgraph2\u001b[0m \u001b[1;33m=\u001b[0m \u001b[0mGraph\u001b[0m\u001b[1;33m(\u001b[0m\u001b[0mmap_list\u001b[0m\u001b[1;33m)\u001b[0m\u001b[1;33m\u001b[0m\u001b[1;33m\u001b[0m\u001b[0m\n\u001b[1;32m----> 2\u001b[1;33m \u001b[0mgraph2\u001b[0m\u001b[1;33m.\u001b[0m\u001b[0ma_star_algorithm\u001b[0m\u001b[1;33m(\u001b[0m\u001b[1;34m'vanderbilt_45th'\u001b[0m\u001b[1;33m,\u001b[0m\u001b[1;34m'america_39th'\u001b[0m\u001b[1;33m)\u001b[0m\u001b[1;33m\u001b[0m\u001b[1;33m\u001b[0m\u001b[0m\n\u001b[0m",
      "\u001b[1;32m<ipython-input-4-f495ad766a32>\u001b[0m in \u001b[0;36ma_star_algorithm\u001b[1;34m(self, start_node, stop_node)\u001b[0m\n\u001b[0;32m     49\u001b[0m             \u001b[1;31m# find a node with the lowest value of f() - evaluation function\u001b[0m\u001b[1;33m\u001b[0m\u001b[1;33m\u001b[0m\u001b[1;33m\u001b[0m\u001b[0m\n\u001b[0;32m     50\u001b[0m             \u001b[1;32mfor\u001b[0m \u001b[0mv\u001b[0m \u001b[1;32min\u001b[0m \u001b[0mopen_list\u001b[0m\u001b[1;33m:\u001b[0m\u001b[1;33m\u001b[0m\u001b[1;33m\u001b[0m\u001b[0m\n\u001b[1;32m---> 51\u001b[1;33m                 \u001b[1;32mif\u001b[0m \u001b[0mn\u001b[0m \u001b[1;33m==\u001b[0m \u001b[1;32mNone\u001b[0m \u001b[1;32mor\u001b[0m \u001b[0mg\u001b[0m\u001b[1;33m[\u001b[0m\u001b[0mv\u001b[0m\u001b[1;33m]\u001b[0m \u001b[1;33m+\u001b[0m \u001b[0mself\u001b[0m\u001b[1;33m.\u001b[0m\u001b[0mh\u001b[0m\u001b[1;33m(\u001b[0m\u001b[0mv\u001b[0m\u001b[1;33m)\u001b[0m \u001b[1;33m<\u001b[0m \u001b[0mg\u001b[0m\u001b[1;33m[\u001b[0m\u001b[0mn\u001b[0m\u001b[1;33m]\u001b[0m \u001b[1;33m+\u001b[0m \u001b[0mself\u001b[0m\u001b[1;33m.\u001b[0m\u001b[0mh\u001b[0m\u001b[1;33m(\u001b[0m\u001b[0mn\u001b[0m\u001b[1;33m)\u001b[0m\u001b[1;33m:\u001b[0m\u001b[1;33m\u001b[0m\u001b[1;33m\u001b[0m\u001b[0m\n\u001b[0m\u001b[0;32m     52\u001b[0m                     \u001b[0mn\u001b[0m \u001b[1;33m=\u001b[0m \u001b[0mv\u001b[0m\u001b[1;33m;\u001b[0m\u001b[1;33m\u001b[0m\u001b[1;33m\u001b[0m\u001b[0m\n\u001b[0;32m     53\u001b[0m \u001b[1;33m\u001b[0m\u001b[0m\n",
      "\u001b[1;32m<ipython-input-4-f495ad766a32>\u001b[0m in \u001b[0;36mh\u001b[1;34m(self, n)\u001b[0m\n\u001b[0;32m     24\u001b[0m         }\n\u001b[0;32m     25\u001b[0m \u001b[1;33m\u001b[0m\u001b[0m\n\u001b[1;32m---> 26\u001b[1;33m         \u001b[1;32mreturn\u001b[0m \u001b[0mH\u001b[0m\u001b[1;33m[\u001b[0m\u001b[0mn\u001b[0m\u001b[1;33m]\u001b[0m\u001b[1;33m\u001b[0m\u001b[1;33m\u001b[0m\u001b[0m\n\u001b[0m\u001b[0;32m     27\u001b[0m \u001b[1;33m\u001b[0m\u001b[0m\n\u001b[0;32m     28\u001b[0m     \u001b[1;32mdef\u001b[0m \u001b[0ma_star_algorithm\u001b[0m\u001b[1;33m(\u001b[0m\u001b[0mself\u001b[0m\u001b[1;33m,\u001b[0m \u001b[0mstart_node\u001b[0m\u001b[1;33m,\u001b[0m \u001b[0mstop_node\u001b[0m\u001b[1;33m)\u001b[0m\u001b[1;33m:\u001b[0m\u001b[1;33m\u001b[0m\u001b[1;33m\u001b[0m\u001b[0m\n",
      "\u001b[1;31mKeyError\u001b[0m: 'vanderbilt_44th'"
     ]
    }
   ],
   "source": [
    "graph2 = Graph(map_list)\n",
    "graph2.a_star_algorithm('vanderbilt_45th','america_39th')"
   ]
  },
  {
   "cell_type": "code",
   "execution_count": null,
   "id": "7a7ca4e3",
   "metadata": {},
   "outputs": [],
   "source": []
  }
 ],
 "metadata": {
  "kernelspec": {
   "display_name": "Python 3",
   "language": "python",
   "name": "python3"
  },
  "language_info": {
   "codemirror_mode": {
    "name": "ipython",
    "version": 3
   },
   "file_extension": ".py",
   "mimetype": "text/x-python",
   "name": "python",
   "nbconvert_exporter": "python",
   "pygments_lexer": "ipython3",
   "version": "3.8.8"
  }
 },
 "nbformat": 4,
 "nbformat_minor": 5
}
